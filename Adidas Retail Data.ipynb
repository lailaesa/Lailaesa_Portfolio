{
  "nbformat": 4,
  "nbformat_minor": 0,
  "metadata": {
    "colab": {
      "provenance": [],
      "collapsed_sections": [],
      "authorship_tag": "ABX9TyNXAzJTAUeZGe2qHVE2O5XD",
      "include_colab_link": true
    },
    "kernelspec": {
      "name": "python3",
      "display_name": "Python 3"
    },
    "language_info": {
      "name": "python"
    }
  },
  "cells": [
    {
      "cell_type": "markdown",
      "metadata": {
        "id": "view-in-github",
        "colab_type": "text"
      },
      "source": [
        "<a href=\"https://colab.research.google.com/github/lailaesa/Lailaesa_Portfolio/blob/main/Adidas%20Retail%20Data.ipynb\" target=\"_parent\"><img src=\"https://colab.research.google.com/assets/colab-badge.svg\" alt=\"Open In Colab\"/></a>"
      ]
    },
    {
      "cell_type": "code",
      "source": [
        "import pandas as pd \n",
        "import numpy as np\n",
        "import matplotlib.pyplot as plt\n",
        "import seaborn as sns\n",
        "\n",
        "adidas = pd.read_csv('adidas.csv')\n",
        "print(adidas.head())\n",
        "print(adidas.info())"
      ],
      "metadata": {
        "colab": {
          "base_uri": "https://localhost:8080/"
        },
        "id": "AyGji_wxxrNl",
        "outputId": "b87d60e4-3753-46ab-e7b9-0bc0ab559f06"
      },
      "execution_count": 196,
      "outputs": [
        {
          "output_type": "stream",
          "name": "stdout",
          "text": [
            "                                                 url  \\\n",
            "0  https://www.adidas.com/us/beach-shorts/FJ5089....   \n",
            "1  https://www.adidas.com/us/five-ten-kestrel-lac...   \n",
            "2  https://www.adidas.com/us/mexico-away-jersey/G...   \n",
            "3  https://www.adidas.com/us/five-ten-hiangle-pro...   \n",
            "4  https://www.adidas.com/us/mesh-broken-stripe-p...   \n",
            "\n",
            "                                              name     sku  selling_price  \\\n",
            "0                                     Beach Shorts  FJ5089             40   \n",
            "1        Five Ten Kestrel Lace Mountain Bike Shoes  BC0770            150   \n",
            "2                               Mexico Away Jersey  GC7946             70   \n",
            "3  Five Ten Hiangle Pro Competition Climbing Shoes  FV4744            160   \n",
            "4                    Mesh Broken-Stripe Polo Shirt  GM0239             65   \n",
            "\n",
            "  original_price currency availability  color  category                source  \\\n",
            "0            NaN      USD      InStock  Black  Clothing  adidas United States   \n",
            "1            NaN      USD      InStock   Grey     Shoes  adidas United States   \n",
            "2            NaN      USD      InStock  White  Clothing  adidas United States   \n",
            "3            NaN      USD      InStock  Black     Shoes  adidas United States   \n",
            "4            NaN      USD      InStock   Blue  Clothing  adidas United States   \n",
            "\n",
            "           source_website     breadcrumbs  \\\n",
            "0  https://www.adidas.com  Women/Clothing   \n",
            "1  https://www.adidas.com     Women/Shoes   \n",
            "2  https://www.adidas.com   Kids/Clothing   \n",
            "3  https://www.adidas.com  Five Ten/Shoes   \n",
            "4  https://www.adidas.com    Men/Clothing   \n",
            "\n",
            "                                         description   brand  \\\n",
            "0  Splashing in the surf. Making memories with yo...  adidas   \n",
            "1  Lace up and get after it. The Five Ten Kestrel...  adidas   \n",
            "2  Clean and crisp, this adidas Mexico Away Jerse...  adidas   \n",
            "3  The Hiangle Pro takes on the classic shape of ...  adidas   \n",
            "4  Step up to the tee relaxed. This adidas golf p...  adidas   \n",
            "\n",
            "                                              images country language  \\\n",
            "0  https://assets.adidas.com/images/w_600,f_auto,...     USA       en   \n",
            "1  https://assets.adidas.com/images/w_600,f_auto,...     USA       en   \n",
            "2  https://assets.adidas.com/images/w_600,f_auto,...     USA       en   \n",
            "3  https://assets.adidas.com/images/w_600,f_auto,...     USA       en   \n",
            "4  https://assets.adidas.com/images/w_600,f_auto,...     USA       en   \n",
            "\n",
            "   average_rating  reviews_count                  crawled_at  \n",
            "0             4.5             35  2021-10-23 17:50:17.331255  \n",
            "1             4.8              4  2021-10-23 17:50:17.423830  \n",
            "2             4.9             42  2021-10-23 17:50:17.530834  \n",
            "3             3.7              7  2021-10-23 17:50:17.615054  \n",
            "4             4.7             11  2021-10-23 17:50:17.702680  \n",
            "<class 'pandas.core.frame.DataFrame'>\n",
            "RangeIndex: 845 entries, 0 to 844\n",
            "Data columns (total 20 columns):\n",
            " #   Column          Non-Null Count  Dtype  \n",
            "---  ------          --------------  -----  \n",
            " 0   url             845 non-null    object \n",
            " 1   name            845 non-null    object \n",
            " 2   sku             845 non-null    object \n",
            " 3   selling_price   845 non-null    int64  \n",
            " 4   original_price  829 non-null    object \n",
            " 5   currency        845 non-null    object \n",
            " 6   availability    845 non-null    object \n",
            " 7   color           845 non-null    object \n",
            " 8   category        845 non-null    object \n",
            " 9   source          845 non-null    object \n",
            " 10  source_website  845 non-null    object \n",
            " 11  breadcrumbs     845 non-null    object \n",
            " 12  description     845 non-null    object \n",
            " 13  brand           845 non-null    object \n",
            " 14  images          845 non-null    object \n",
            " 15  country         845 non-null    object \n",
            " 16  language        845 non-null    object \n",
            " 17  average_rating  845 non-null    float64\n",
            " 18  reviews_count   845 non-null    int64  \n",
            " 19  crawled_at      845 non-null    object \n",
            "dtypes: float64(1), int64(2), object(17)\n",
            "memory usage: 132.2+ KB\n",
            "None\n"
          ]
        }
      ]
    },
    {
      "cell_type": "code",
      "source": [
        "print(adidas.isnull().sum())"
      ],
      "metadata": {
        "colab": {
          "base_uri": "https://localhost:8080/"
        },
        "id": "Wg4cxqGFx5To",
        "outputId": "a80e823c-c490-4f21-bc74-07848a6d10c3"
      },
      "execution_count": 197,
      "outputs": [
        {
          "output_type": "stream",
          "name": "stdout",
          "text": [
            "url                0\n",
            "name               0\n",
            "sku                0\n",
            "selling_price      0\n",
            "original_price    16\n",
            "currency           0\n",
            "availability       0\n",
            "color              0\n",
            "category           0\n",
            "source             0\n",
            "source_website     0\n",
            "breadcrumbs        0\n",
            "description        0\n",
            "brand              0\n",
            "images             0\n",
            "country            0\n",
            "language           0\n",
            "average_rating     0\n",
            "reviews_count      0\n",
            "crawled_at         0\n",
            "dtype: int64\n"
          ]
        }
      ]
    },
    {
      "cell_type": "code",
      "source": [
        "adidas['original_price'] = adidas['original_price'].str.replace(\"$\",\" \")\n",
        "print(adidas)"
      ],
      "metadata": {
        "colab": {
          "base_uri": "https://localhost:8080/"
        },
        "id": "IwTx652Ux_84",
        "outputId": "240be2ba-8715-43f7-ced9-14a2bbf03c17"
      },
      "execution_count": 198,
      "outputs": [
        {
          "output_type": "stream",
          "name": "stdout",
          "text": [
            "                                                   url  \\\n",
            "0    https://www.adidas.com/us/beach-shorts/FJ5089....   \n",
            "1    https://www.adidas.com/us/five-ten-kestrel-lac...   \n",
            "2    https://www.adidas.com/us/mexico-away-jersey/G...   \n",
            "3    https://www.adidas.com/us/five-ten-hiangle-pro...   \n",
            "4    https://www.adidas.com/us/mesh-broken-stripe-p...   \n",
            "..                                                 ...   \n",
            "840  https://www.adidas.com/us/supernova-plus-shoes...   \n",
            "841  https://www.adidas.com/us/choigo-shoes/H00667....   \n",
            "842  https://www.adidas.com/us/daily-3.0-shoes/GZ77...   \n",
            "843  https://www.adidas.com/us/daily-3.0-shoes/GZ77...   \n",
            "844  https://www.adidas.com/us/choigo-shoes/FY6503....   \n",
            "\n",
            "                                                name     sku  selling_price  \\\n",
            "0                                       Beach Shorts  FJ5089             40   \n",
            "1          Five Ten Kestrel Lace Mountain Bike Shoes  BC0770            150   \n",
            "2                                 Mexico Away Jersey  GC7946             70   \n",
            "3    Five Ten Hiangle Pro Competition Climbing Shoes  FV4744            160   \n",
            "4                      Mesh Broken-Stripe Polo Shirt  GM0239             65   \n",
            "..                                               ...     ...            ...   \n",
            "840                                 Supernova+ Shoes  FX2858             72   \n",
            "841                                     Choigo Shoes  H00667             70   \n",
            "842                                  Daily 3.0 Shoes  GZ7705             35   \n",
            "843                                  Daily 3.0 Shoes  GZ7706             40   \n",
            "844                                     Choigo Shoes  FY6503             70   \n",
            "\n",
            "    original_price currency availability  color  category  \\\n",
            "0              NaN      USD      InStock  Black  Clothing   \n",
            "1              NaN      USD      InStock   Grey     Shoes   \n",
            "2              NaN      USD      InStock  White  Clothing   \n",
            "3              NaN      USD      InStock  Black     Shoes   \n",
            "4              NaN      USD      InStock   Blue  Clothing   \n",
            "..             ...      ...          ...    ...       ...   \n",
            "840            120      USD      InStock  White     Shoes   \n",
            "841            100      USD      InStock  White     Shoes   \n",
            "842             50      USD      InStock  Black     Shoes   \n",
            "843             50      USD      InStock   Pink     Shoes   \n",
            "844            100      USD      InStock  Black     Shoes   \n",
            "\n",
            "                   source          source_website     breadcrumbs  \\\n",
            "0    adidas United States  https://www.adidas.com  Women/Clothing   \n",
            "1    adidas United States  https://www.adidas.com     Women/Shoes   \n",
            "2    adidas United States  https://www.adidas.com   Kids/Clothing   \n",
            "3    adidas United States  https://www.adidas.com  Five Ten/Shoes   \n",
            "4    adidas United States  https://www.adidas.com    Men/Clothing   \n",
            "..                    ...                     ...             ...   \n",
            "840  adidas United States  https://www.adidas.com     Women/Shoes   \n",
            "841  adidas United States  https://www.adidas.com     Women/Shoes   \n",
            "842  adidas United States  https://www.adidas.com      Kids/Shoes   \n",
            "843  adidas United States  https://www.adidas.com      Kids/Shoes   \n",
            "844  adidas United States  https://www.adidas.com     Women/Shoes   \n",
            "\n",
            "                                           description   brand  \\\n",
            "0    Splashing in the surf. Making memories with yo...  adidas   \n",
            "1    Lace up and get after it. The Five Ten Kestrel...  adidas   \n",
            "2    Clean and crisp, this adidas Mexico Away Jerse...  adidas   \n",
            "3    The Hiangle Pro takes on the classic shape of ...  adidas   \n",
            "4    Step up to the tee relaxed. This adidas golf p...  adidas   \n",
            "..                                                 ...     ...   \n",
            "840  Take off. Touch down. Repeat. These adidas run...  adidas   \n",
            "841  If you want drama, the bold female track and f...  adidas   \n",
            "842  The style is in the details of the Daily 3.0 S...  adidas   \n",
            "843  The style is in the details of the Daily 3.0 S...  adidas   \n",
            "844  Take your style to bold new heights. Throw in ...  adidas   \n",
            "\n",
            "                                                images country language  \\\n",
            "0    https://assets.adidas.com/images/w_600,f_auto,...     USA       en   \n",
            "1    https://assets.adidas.com/images/w_600,f_auto,...     USA       en   \n",
            "2    https://assets.adidas.com/images/w_600,f_auto,...     USA       en   \n",
            "3    https://assets.adidas.com/images/w_600,f_auto,...     USA       en   \n",
            "4    https://assets.adidas.com/images/w_600,f_auto,...     USA       en   \n",
            "..                                                 ...     ...      ...   \n",
            "840  https://assets.adidas.com/images/w_600,f_auto,...     USA       en   \n",
            "841  https://assets.adidas.com/images/w_600,f_auto,...     USA       en   \n",
            "842  https://assets.adidas.com/images/w_600,f_auto,...     USA       en   \n",
            "843  https://assets.adidas.com/images/w_600,f_auto,...     USA       en   \n",
            "844  https://assets.adidas.com/images/w_600,f_auto,...     USA       en   \n",
            "\n",
            "     average_rating  reviews_count                  crawled_at  \n",
            "0               4.5             35  2021-10-23 17:50:17.331255  \n",
            "1               4.8              4  2021-10-23 17:50:17.423830  \n",
            "2               4.9             42  2021-10-23 17:50:17.530834  \n",
            "3               3.7              7  2021-10-23 17:50:17.615054  \n",
            "4               4.7             11  2021-10-23 17:50:17.702680  \n",
            "..              ...            ...                         ...  \n",
            "840             4.3            151  2021-10-23 17:52:31.937924  \n",
            "841             4.7            135  2021-10-23 17:52:32.014973  \n",
            "842             4.7            190  2021-10-23 17:52:32.208426  \n",
            "843             4.7            190  2021-10-23 17:52:32.293622  \n",
            "844             4.7            135  2021-10-23 17:52:32.398104  \n",
            "\n",
            "[845 rows x 20 columns]\n"
          ]
        },
        {
          "output_type": "stream",
          "name": "stderr",
          "text": [
            "/usr/local/lib/python3.7/dist-packages/ipykernel_launcher.py:1: FutureWarning: The default value of regex will change from True to False in a future version. In addition, single character regular expressions will *not* be treated as literal strings when regex=True.\n",
            "  \"\"\"Entry point for launching an IPython kernel.\n"
          ]
        }
      ]
    },
    {
      "cell_type": "code",
      "source": [
        "avg_norm_loss = adidas[\"original_price\"].astype(\"float\").mean(axis=0)\n",
        "print(\"Average of normalized-losses:\", avg_norm_loss)"
      ],
      "metadata": {
        "colab": {
          "base_uri": "https://localhost:8080/"
        },
        "id": "I81XSleL1vbq",
        "outputId": "66d2840b-b3b1-4946-c863-3d4a08c53921"
      },
      "execution_count": 199,
      "outputs": [
        {
          "output_type": "stream",
          "name": "stdout",
          "text": [
            "Average of normalized-losses: 69.00844390832329\n"
          ]
        }
      ]
    },
    {
      "cell_type": "code",
      "source": [
        "adidas[\"original_price\"].replace(np.nan, avg_norm_loss, inplace=True)\n",
        "print(adidas.isnull().sum())"
      ],
      "metadata": {
        "colab": {
          "base_uri": "https://localhost:8080/"
        },
        "id": "CAgJnJg42Fce",
        "outputId": "a4936ff0-586c-43db-91bc-5a61b49a4c1e"
      },
      "execution_count": 200,
      "outputs": [
        {
          "output_type": "stream",
          "name": "stdout",
          "text": [
            "url               0\n",
            "name              0\n",
            "sku               0\n",
            "selling_price     0\n",
            "original_price    0\n",
            "currency          0\n",
            "availability      0\n",
            "color             0\n",
            "category          0\n",
            "source            0\n",
            "source_website    0\n",
            "breadcrumbs       0\n",
            "description       0\n",
            "brand             0\n",
            "images            0\n",
            "country           0\n",
            "language          0\n",
            "average_rating    0\n",
            "reviews_count     0\n",
            "crawled_at        0\n",
            "dtype: int64\n"
          ]
        }
      ]
    },
    {
      "cell_type": "code",
      "source": [
        "adidas['Category'] = adidas['breadcrumbs'].str.split(\"/\")\n",
        "adidas['Category'] = adidas['Category'].str[0]\n",
        "adidas['type'] = adidas['breadcrumbs'].str.split(\"/\")\n",
        "adidas['type'] = adidas['type'].str[1]\n",
        "print(adidas)"
      ],
      "metadata": {
        "colab": {
          "base_uri": "https://localhost:8080/"
        },
        "id": "AhjdGZL6oAau",
        "outputId": "d74602d6-04bb-4f5f-a96c-83dbd3d47bbe"
      },
      "execution_count": 201,
      "outputs": [
        {
          "output_type": "stream",
          "name": "stdout",
          "text": [
            "                                                   url  \\\n",
            "0    https://www.adidas.com/us/beach-shorts/FJ5089....   \n",
            "1    https://www.adidas.com/us/five-ten-kestrel-lac...   \n",
            "2    https://www.adidas.com/us/mexico-away-jersey/G...   \n",
            "3    https://www.adidas.com/us/five-ten-hiangle-pro...   \n",
            "4    https://www.adidas.com/us/mesh-broken-stripe-p...   \n",
            "..                                                 ...   \n",
            "840  https://www.adidas.com/us/supernova-plus-shoes...   \n",
            "841  https://www.adidas.com/us/choigo-shoes/H00667....   \n",
            "842  https://www.adidas.com/us/daily-3.0-shoes/GZ77...   \n",
            "843  https://www.adidas.com/us/daily-3.0-shoes/GZ77...   \n",
            "844  https://www.adidas.com/us/choigo-shoes/FY6503....   \n",
            "\n",
            "                                                name     sku  selling_price  \\\n",
            "0                                       Beach Shorts  FJ5089             40   \n",
            "1          Five Ten Kestrel Lace Mountain Bike Shoes  BC0770            150   \n",
            "2                                 Mexico Away Jersey  GC7946             70   \n",
            "3    Five Ten Hiangle Pro Competition Climbing Shoes  FV4744            160   \n",
            "4                      Mesh Broken-Stripe Polo Shirt  GM0239             65   \n",
            "..                                               ...     ...            ...   \n",
            "840                                 Supernova+ Shoes  FX2858             72   \n",
            "841                                     Choigo Shoes  H00667             70   \n",
            "842                                  Daily 3.0 Shoes  GZ7705             35   \n",
            "843                                  Daily 3.0 Shoes  GZ7706             40   \n",
            "844                                     Choigo Shoes  FY6503             70   \n",
            "\n",
            "    original_price currency availability  color  category  \\\n",
            "0        69.008444      USD      InStock  Black  Clothing   \n",
            "1        69.008444      USD      InStock   Grey     Shoes   \n",
            "2        69.008444      USD      InStock  White  Clothing   \n",
            "3        69.008444      USD      InStock  Black     Shoes   \n",
            "4        69.008444      USD      InStock   Blue  Clothing   \n",
            "..             ...      ...          ...    ...       ...   \n",
            "840            120      USD      InStock  White     Shoes   \n",
            "841            100      USD      InStock  White     Shoes   \n",
            "842             50      USD      InStock  Black     Shoes   \n",
            "843             50      USD      InStock   Pink     Shoes   \n",
            "844            100      USD      InStock  Black     Shoes   \n",
            "\n",
            "                   source  ...  \\\n",
            "0    adidas United States  ...   \n",
            "1    adidas United States  ...   \n",
            "2    adidas United States  ...   \n",
            "3    adidas United States  ...   \n",
            "4    adidas United States  ...   \n",
            "..                    ...  ...   \n",
            "840  adidas United States  ...   \n",
            "841  adidas United States  ...   \n",
            "842  adidas United States  ...   \n",
            "843  adidas United States  ...   \n",
            "844  adidas United States  ...   \n",
            "\n",
            "                                           description   brand  \\\n",
            "0    Splashing in the surf. Making memories with yo...  adidas   \n",
            "1    Lace up and get after it. The Five Ten Kestrel...  adidas   \n",
            "2    Clean and crisp, this adidas Mexico Away Jerse...  adidas   \n",
            "3    The Hiangle Pro takes on the classic shape of ...  adidas   \n",
            "4    Step up to the tee relaxed. This adidas golf p...  adidas   \n",
            "..                                                 ...     ...   \n",
            "840  Take off. Touch down. Repeat. These adidas run...  adidas   \n",
            "841  If you want drama, the bold female track and f...  adidas   \n",
            "842  The style is in the details of the Daily 3.0 S...  adidas   \n",
            "843  The style is in the details of the Daily 3.0 S...  adidas   \n",
            "844  Take your style to bold new heights. Throw in ...  adidas   \n",
            "\n",
            "                                                images country language  \\\n",
            "0    https://assets.adidas.com/images/w_600,f_auto,...     USA       en   \n",
            "1    https://assets.adidas.com/images/w_600,f_auto,...     USA       en   \n",
            "2    https://assets.adidas.com/images/w_600,f_auto,...     USA       en   \n",
            "3    https://assets.adidas.com/images/w_600,f_auto,...     USA       en   \n",
            "4    https://assets.adidas.com/images/w_600,f_auto,...     USA       en   \n",
            "..                                                 ...     ...      ...   \n",
            "840  https://assets.adidas.com/images/w_600,f_auto,...     USA       en   \n",
            "841  https://assets.adidas.com/images/w_600,f_auto,...     USA       en   \n",
            "842  https://assets.adidas.com/images/w_600,f_auto,...     USA       en   \n",
            "843  https://assets.adidas.com/images/w_600,f_auto,...     USA       en   \n",
            "844  https://assets.adidas.com/images/w_600,f_auto,...     USA       en   \n",
            "\n",
            "    average_rating reviews_count                  crawled_at  Category  \\\n",
            "0              4.5            35  2021-10-23 17:50:17.331255     Women   \n",
            "1              4.8             4  2021-10-23 17:50:17.423830     Women   \n",
            "2              4.9            42  2021-10-23 17:50:17.530834      Kids   \n",
            "3              3.7             7  2021-10-23 17:50:17.615054  Five Ten   \n",
            "4              4.7            11  2021-10-23 17:50:17.702680       Men   \n",
            "..             ...           ...                         ...       ...   \n",
            "840            4.3           151  2021-10-23 17:52:31.937924     Women   \n",
            "841            4.7           135  2021-10-23 17:52:32.014973     Women   \n",
            "842            4.7           190  2021-10-23 17:52:32.208426      Kids   \n",
            "843            4.7           190  2021-10-23 17:52:32.293622      Kids   \n",
            "844            4.7           135  2021-10-23 17:52:32.398104     Women   \n",
            "\n",
            "         type  \n",
            "0    Clothing  \n",
            "1       Shoes  \n",
            "2    Clothing  \n",
            "3       Shoes  \n",
            "4    Clothing  \n",
            "..        ...  \n",
            "840     Shoes  \n",
            "841     Shoes  \n",
            "842     Shoes  \n",
            "843     Shoes  \n",
            "844     Shoes  \n",
            "\n",
            "[845 rows x 22 columns]\n"
          ]
        }
      ]
    },
    {
      "cell_type": "code",
      "source": [
        "adidas['original_price'] = adidas['original_price'].astype(\"float\")\n",
        "adidas.dtypes"
      ],
      "metadata": {
        "colab": {
          "base_uri": "https://localhost:8080/"
        },
        "id": "Z8hQ23Pk2w2P",
        "outputId": "d5893799-4db1-413e-f657-7d2c413d83b1"
      },
      "execution_count": 202,
      "outputs": [
        {
          "output_type": "execute_result",
          "data": {
            "text/plain": [
              "url                object\n",
              "name               object\n",
              "sku                object\n",
              "selling_price       int64\n",
              "original_price    float64\n",
              "currency           object\n",
              "availability       object\n",
              "color              object\n",
              "category           object\n",
              "source             object\n",
              "source_website     object\n",
              "breadcrumbs        object\n",
              "description        object\n",
              "brand              object\n",
              "images             object\n",
              "country            object\n",
              "language           object\n",
              "average_rating    float64\n",
              "reviews_count       int64\n",
              "crawled_at         object\n",
              "Category           object\n",
              "type               object\n",
              "dtype: object"
            ]
          },
          "metadata": {},
          "execution_count": 202
        }
      ]
    },
    {
      "cell_type": "code",
      "source": [
        "adidas.describe()"
      ],
      "metadata": {
        "colab": {
          "base_uri": "https://localhost:8080/",
          "height": 300
        },
        "id": "Pxpl_LuEmdKh",
        "outputId": "98bd0623-32cc-4ffa-e8db-71ccd3a1098e"
      },
      "execution_count": 203,
      "outputs": [
        {
          "output_type": "execute_result",
          "data": {
            "text/plain": [
              "       selling_price  original_price  average_rating  reviews_count\n",
              "count     845.000000      845.000000      845.000000     845.000000\n",
              "mean       53.192899       69.008444        4.608402     426.178698\n",
              "std        31.411645       40.104498        0.293795    1229.158277\n",
              "min         9.000000       14.000000        1.000000       1.000000\n",
              "25%        28.000000       40.000000        4.500000      19.000000\n",
              "50%        48.000000       65.000000        4.700000      68.000000\n",
              "75%        70.000000       90.000000        4.800000     314.000000\n",
              "max       240.000000      300.000000        5.000000   11750.000000"
            ],
            "text/html": [
              "\n",
              "  <div id=\"df-68083f28-56ae-4457-a65e-c5e26d748ea2\">\n",
              "    <div class=\"colab-df-container\">\n",
              "      <div>\n",
              "<style scoped>\n",
              "    .dataframe tbody tr th:only-of-type {\n",
              "        vertical-align: middle;\n",
              "    }\n",
              "\n",
              "    .dataframe tbody tr th {\n",
              "        vertical-align: top;\n",
              "    }\n",
              "\n",
              "    .dataframe thead th {\n",
              "        text-align: right;\n",
              "    }\n",
              "</style>\n",
              "<table border=\"1\" class=\"dataframe\">\n",
              "  <thead>\n",
              "    <tr style=\"text-align: right;\">\n",
              "      <th></th>\n",
              "      <th>selling_price</th>\n",
              "      <th>original_price</th>\n",
              "      <th>average_rating</th>\n",
              "      <th>reviews_count</th>\n",
              "    </tr>\n",
              "  </thead>\n",
              "  <tbody>\n",
              "    <tr>\n",
              "      <th>count</th>\n",
              "      <td>845.000000</td>\n",
              "      <td>845.000000</td>\n",
              "      <td>845.000000</td>\n",
              "      <td>845.000000</td>\n",
              "    </tr>\n",
              "    <tr>\n",
              "      <th>mean</th>\n",
              "      <td>53.192899</td>\n",
              "      <td>69.008444</td>\n",
              "      <td>4.608402</td>\n",
              "      <td>426.178698</td>\n",
              "    </tr>\n",
              "    <tr>\n",
              "      <th>std</th>\n",
              "      <td>31.411645</td>\n",
              "      <td>40.104498</td>\n",
              "      <td>0.293795</td>\n",
              "      <td>1229.158277</td>\n",
              "    </tr>\n",
              "    <tr>\n",
              "      <th>min</th>\n",
              "      <td>9.000000</td>\n",
              "      <td>14.000000</td>\n",
              "      <td>1.000000</td>\n",
              "      <td>1.000000</td>\n",
              "    </tr>\n",
              "    <tr>\n",
              "      <th>25%</th>\n",
              "      <td>28.000000</td>\n",
              "      <td>40.000000</td>\n",
              "      <td>4.500000</td>\n",
              "      <td>19.000000</td>\n",
              "    </tr>\n",
              "    <tr>\n",
              "      <th>50%</th>\n",
              "      <td>48.000000</td>\n",
              "      <td>65.000000</td>\n",
              "      <td>4.700000</td>\n",
              "      <td>68.000000</td>\n",
              "    </tr>\n",
              "    <tr>\n",
              "      <th>75%</th>\n",
              "      <td>70.000000</td>\n",
              "      <td>90.000000</td>\n",
              "      <td>4.800000</td>\n",
              "      <td>314.000000</td>\n",
              "    </tr>\n",
              "    <tr>\n",
              "      <th>max</th>\n",
              "      <td>240.000000</td>\n",
              "      <td>300.000000</td>\n",
              "      <td>5.000000</td>\n",
              "      <td>11750.000000</td>\n",
              "    </tr>\n",
              "  </tbody>\n",
              "</table>\n",
              "</div>\n",
              "      <button class=\"colab-df-convert\" onclick=\"convertToInteractive('df-68083f28-56ae-4457-a65e-c5e26d748ea2')\"\n",
              "              title=\"Convert this dataframe to an interactive table.\"\n",
              "              style=\"display:none;\">\n",
              "        \n",
              "  <svg xmlns=\"http://www.w3.org/2000/svg\" height=\"24px\"viewBox=\"0 0 24 24\"\n",
              "       width=\"24px\">\n",
              "    <path d=\"M0 0h24v24H0V0z\" fill=\"none\"/>\n",
              "    <path d=\"M18.56 5.44l.94 2.06.94-2.06 2.06-.94-2.06-.94-.94-2.06-.94 2.06-2.06.94zm-11 1L8.5 8.5l.94-2.06 2.06-.94-2.06-.94L8.5 2.5l-.94 2.06-2.06.94zm10 10l.94 2.06.94-2.06 2.06-.94-2.06-.94-.94-2.06-.94 2.06-2.06.94z\"/><path d=\"M17.41 7.96l-1.37-1.37c-.4-.4-.92-.59-1.43-.59-.52 0-1.04.2-1.43.59L10.3 9.45l-7.72 7.72c-.78.78-.78 2.05 0 2.83L4 21.41c.39.39.9.59 1.41.59.51 0 1.02-.2 1.41-.59l7.78-7.78 2.81-2.81c.8-.78.8-2.07 0-2.86zM5.41 20L4 18.59l7.72-7.72 1.47 1.35L5.41 20z\"/>\n",
              "  </svg>\n",
              "      </button>\n",
              "      \n",
              "  <style>\n",
              "    .colab-df-container {\n",
              "      display:flex;\n",
              "      flex-wrap:wrap;\n",
              "      gap: 12px;\n",
              "    }\n",
              "\n",
              "    .colab-df-convert {\n",
              "      background-color: #E8F0FE;\n",
              "      border: none;\n",
              "      border-radius: 50%;\n",
              "      cursor: pointer;\n",
              "      display: none;\n",
              "      fill: #1967D2;\n",
              "      height: 32px;\n",
              "      padding: 0 0 0 0;\n",
              "      width: 32px;\n",
              "    }\n",
              "\n",
              "    .colab-df-convert:hover {\n",
              "      background-color: #E2EBFA;\n",
              "      box-shadow: 0px 1px 2px rgba(60, 64, 67, 0.3), 0px 1px 3px 1px rgba(60, 64, 67, 0.15);\n",
              "      fill: #174EA6;\n",
              "    }\n",
              "\n",
              "    [theme=dark] .colab-df-convert {\n",
              "      background-color: #3B4455;\n",
              "      fill: #D2E3FC;\n",
              "    }\n",
              "\n",
              "    [theme=dark] .colab-df-convert:hover {\n",
              "      background-color: #434B5C;\n",
              "      box-shadow: 0px 1px 3px 1px rgba(0, 0, 0, 0.15);\n",
              "      filter: drop-shadow(0px 1px 2px rgba(0, 0, 0, 0.3));\n",
              "      fill: #FFFFFF;\n",
              "    }\n",
              "  </style>\n",
              "\n",
              "      <script>\n",
              "        const buttonEl =\n",
              "          document.querySelector('#df-68083f28-56ae-4457-a65e-c5e26d748ea2 button.colab-df-convert');\n",
              "        buttonEl.style.display =\n",
              "          google.colab.kernel.accessAllowed ? 'block' : 'none';\n",
              "\n",
              "        async function convertToInteractive(key) {\n",
              "          const element = document.querySelector('#df-68083f28-56ae-4457-a65e-c5e26d748ea2');\n",
              "          const dataTable =\n",
              "            await google.colab.kernel.invokeFunction('convertToInteractive',\n",
              "                                                     [key], {});\n",
              "          if (!dataTable) return;\n",
              "\n",
              "          const docLinkHtml = 'Like what you see? Visit the ' +\n",
              "            '<a target=\"_blank\" href=https://colab.research.google.com/notebooks/data_table.ipynb>data table notebook</a>'\n",
              "            + ' to learn more about interactive tables.';\n",
              "          element.innerHTML = '';\n",
              "          dataTable['output_type'] = 'display_data';\n",
              "          await google.colab.output.renderOutput(dataTable, element);\n",
              "          const docLink = document.createElement('div');\n",
              "          docLink.innerHTML = docLinkHtml;\n",
              "          element.appendChild(docLink);\n",
              "        }\n",
              "      </script>\n",
              "    </div>\n",
              "  </div>\n",
              "  "
            ]
          },
          "metadata": {},
          "execution_count": 203
        }
      ]
    },
    {
      "cell_type": "code",
      "source": [
        "sns.displot(adidas, x=\"availability\", hue=\"type\", palette='bright')\n",
        "sns.displot(adidas, x=\"availability\", hue=\"Category\", palette='bright')"
      ],
      "metadata": {
        "colab": {
          "base_uri": "https://localhost:8080/",
          "height": 738
        },
        "id": "geZduI90jxXQ",
        "outputId": "c34c0c72-8f4c-4c51-aca1-d18302f61653"
      },
      "execution_count": 204,
      "outputs": [
        {
          "output_type": "execute_result",
          "data": {
            "text/plain": [
              "<seaborn.axisgrid.FacetGrid at 0x7f49acafd5d0>"
            ]
          },
          "metadata": {},
          "execution_count": 204
        },
        {
          "output_type": "display_data",
          "data": {
            "text/plain": [
              "<Figure size 454.75x360 with 1 Axes>"
            ],
            "image/png": "[encoded data removed]"
          },
          "metadata": {
            "needs_background": "light"
          }
        },
        {
          "output_type": "display_data",
          "data": {
            "text/plain": [
              "<Figure size 452.25x360 with 1 Axes>"
            ],
            "image/png": "[encoded data removed]"
          },
          "metadata": {
            "needs_background": "light"
          }
        }
      ]
    },
    {
      "cell_type": "code",
      "source": [
        "category_by_average_rating = adidas.groupby(['Category'])['selling_price'].mean()\n",
        "category_by_average_rating.plot(x='Category', y ='selling_price',kind='bar', title ='Average selling price by Product Category')\n",
        "plt.xlabel('Product Type')\n",
        "plt.ylabel('Average_selling_price(USD)')\n",
        "plt.tight_layout()\n",
        "plt.show()\n"
      ],
      "metadata": {
        "colab": {
          "base_uri": "https://localhost:8080/",
          "height": 297
        },
        "id": "KFat-lD5fXx5",
        "outputId": "0dba94a3-ce5c-41b4-b208-47bc7d470e09"
      },
      "execution_count": 211,
      "outputs": [
        {
          "output_type": "display_data",
          "data": {
            "text/plain": [
              "<Figure size 432x288 with 1 Axes>"
            ],
            "image/png": "[encoded data removed]"
          },
          "metadata": {
            "needs_background": "light"
          }
        }
      ]
    },
    {
      "cell_type": "code",
      "source": [
        "def func(row):\n",
        "    if row['average_rating'] == 1 and  row['average_rating']<=3.5 :\n",
        "        val = 'low rating'\n",
        "    elif (row['average_rating'] >3.5 and row['average_rating']<=4.5):\n",
        "        val ='medium rating'\n",
        "    else:\n",
        "        val ='high rating'\n",
        "    return val\n",
        "adidas['category_rating'] = adidas.apply(func, axis=1)\n",
        "sns.catplot(data=adidas, x=\"category_rating\", y=\"reviews_count\", hue=\"type\", kind=\"bar\")"
      ],
      "metadata": {
        "colab": {
          "base_uri": "https://localhost:8080/",
          "height": 386
        },
        "id": "YxPqCRSF3W4k",
        "outputId": "30437dca-652e-4c3a-8d22-6bfbb6322d0d"
      },
      "execution_count": 212,
      "outputs": [
        {
          "output_type": "execute_result",
          "data": {
            "text/plain": [
              "<seaborn.axisgrid.FacetGrid at 0x7f49aca9bb10>"
            ]
          },
          "metadata": {},
          "execution_count": 212
        },
        {
          "output_type": "display_data",
          "data": {
            "text/plain": [
              "<Figure size 454.75x360 with 1 Axes>"
            ],
            "image/png": "[encoded data removed]"
          },
          "metadata": {
            "needs_background": "light"
          }
        }
      ]
    },
    {
      "cell_type": "code",
      "source": [
        "sns.catplot(data=adidas, x=\"average_rating\", y=\"color\", kind=\"bar\", edgecolor=\".6\")"
      ],
      "metadata": {
        "colab": {
          "base_uri": "https://localhost:8080/",
          "height": 386
        },
        "id": "-LpLO3VmfIbm",
        "outputId": "78e48b6e-6f24-4038-e10b-70a8178aa7be"
      },
      "execution_count": 207,
      "outputs": [
        {
          "output_type": "execute_result",
          "data": {
            "text/plain": [
              "<seaborn.axisgrid.FacetGrid at 0x7f49ac857490>"
            ]
          },
          "metadata": {},
          "execution_count": 207
        },
        {
          "output_type": "display_data",
          "data": {
            "text/plain": [
              "<Figure size 360x360 with 1 Axes>"
            ],
            "image/png": "[encoded data removed]"
          },
          "metadata": {
            "needs_background": "light"
          }
        }
      ]
    },
    {
      "cell_type": "code",
      "source": [
        "plt.figure(figsize=(12,4))\n",
        "adidas[['name', 'color']].value_counts()[:10].plot(kind='barh')\n",
        "plt.ylabel(\"Product Name\")\n",
        "plt.xlabel(\"No.of Units Sold\")\n",
        "plt.title(\"Product Name Vs. No.of Units Sold\")\n",
        "plt.show();\n"
      ],
      "metadata": {
        "colab": {
          "base_uri": "https://localhost:8080/",
          "height": 295
        },
        "id": "cw6DGgRRyJll",
        "outputId": "e72c5015-7dde-42e9-b6ee-6e2189f8a82e"
      },
      "execution_count": 208,
      "outputs": [
        {
          "output_type": "display_data",
          "data": {
            "text/plain": [
              "<Figure size 864x288 with 1 Axes>"
            ],
            "image/png": "[encoded data removed]"
          },
          "metadata": {
            "needs_background": "light"
          }
        }
      ]
    },
    {
      "cell_type": "code",
      "source": [
        "plt.figure(figsize=(12,4))\n",
        "adidas[['name','category_rating']].value_counts()[:3].plot(kind='bar')\n",
        "plt.ylabel(\"Unit Sold\")\n",
        "plt.xlabel(\"Product And Rating Category\")\n",
        "plt.title(\"Product Name Vs. No.of Units Sold\")\n",
        "plt.show();"
      ],
      "metadata": {
        "colab": {
          "base_uri": "https://localhost:8080/",
          "height": 467
        },
        "id": "f2tMkm7BrBsJ",
        "outputId": "84910cd4-1410-4f85-d0b5-c27c059ac35e"
      },
      "execution_count": 209,
      "outputs": [
        {
          "output_type": "display_data",
          "data": {
            "text/plain": [
              "<Figure size 864x288 with 1 Axes>"
            ],
            "image/png": "[encoded data removed]"
          },
          "metadata": {
            "needs_background": "light"
          }
        }
      ]
    },
    {
      "cell_type": "code",
      "source": [
        "sns.scatterplot(data=adidas, x='average_rating', y='reviews_count')"
      ],
      "metadata": {
        "colab": {
          "base_uri": "https://localhost:8080/",
          "height": 297
        },
        "id": "gYPfKOw8sFcc",
        "outputId": "d5766c09-e12d-4bca-c4d3-e19cec4bc19d"
      },
      "execution_count": 210,
      "outputs": [
        {
          "output_type": "execute_result",
          "data": {
            "text/plain": [
              "<matplotlib.axes._subplots.AxesSubplot at 0x7f49ac55cad0>"
            ]
          },
          "metadata": {},
          "execution_count": 210
        },
        {
          "output_type": "display_data",
          "data": {
            "text/plain": [
              "<Figure size 432x288 with 1 Axes>"
            ],
            "image/png": "[encoded data removed]"
          },
          "metadata": {
            "needs_background": "light"
          }
        }
      ]
    }
  ]
}